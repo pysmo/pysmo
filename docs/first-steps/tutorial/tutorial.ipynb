{
 "cells": [
  {
   "cell_type": "markdown",
   "id": "afdb5d82",
   "metadata": {},
   "source": [
    "# Tutorial\n",
    "[![Binder](https://mybinder.org/badge_logo.svg)](https://mybinder.org/v2/gh/pysmo/pysmo/HEAD?urlpath=%2Fdoc%2Ftree%2Fdocs%2Ffirst-steps%2Ftutorial%2Ftutorial.ipynb)\n",
    "\n",
    "\n",
    "After reading the [first](https://docs.pysmo.org/first-steps/) section of the documentation you should have a basic understanding of three things:\n",
    "\n",
    "- How *type annotations* in Python work.\n",
    "- That defining a class also means you are defining a type.\n",
    "- How defining types with [`Protocol`](https://docs.python.org/3/library/typing.html#typing.Protocol) classes allows annotating functions without coupling them to one or more normal [classes](https://docs.python.org/3/tutorial/classes.html)."
   ]
  },
  {
   "cell_type": "markdown",
   "id": "c9cf0e11-0948-4f60-89de-f14c1b8df950",
   "metadata": {},
   "source": [
    "## Introduction to pysmo types\n",
    "\n",
    "Pysmo makes use of `Protocol` classes not just to make functions and classes work together nicely, but especially also to define types that are relevant in seismologial processing. In this section we show you how to use pysmo types, and illustrate how it enables writing code that is easy to write (and read!), while at the same time also being highly reusable.\n",
    "\n",
    "### Getting SAC Data\n",
    "\n",
    "Let's begin by downloading a seismogram and storing it in a Python object. Pysmo has a class called `SAC`, which lets us use [SAC files](https://ds.iris.edu/files/sac-manual/manual/file_format.html) directly in Python. We first import the `SAC` class from pysmo:"
   ]
  },
  {
   "cell_type": "code",
   "execution_count": 1,
   "id": "5df7ab27",
   "metadata": {
    "jupyter": {
     "is_executing": true
    }
   },
   "outputs": [],
   "source": [
    "from pysmo.classes import SAC"
   ]
  },
  {
   "cell_type": "markdown",
   "id": "a43e4ddf",
   "metadata": {},
   "source": [
    "then we use it to download a SAC file from IRIS and create a `SAC` instance named `sac`:"
   ]
  },
  {
   "cell_type": "code",
   "execution_count": 2,
   "id": "c917264f",
   "metadata": {
    "jupyter": {
     "is_executing": true
    }
   },
   "outputs": [],
   "source": [
    "sac = SAC.from_iris(\n",
    "    net=\"IU\",\n",
    "    sta=\"ANMO\",\n",
    "    cha=\"LHZ\",\n",
    "    loc=\"00\",\n",
    "    start=\"2005-03-28T15:00:00\",\n",
    "    duration=3600 * 5,\n",
    "    scale=\"AUTO\",\n",
    "    demean=\"true\",\n",
    "    force_single_result=True,\n",
    ")"
   ]
  },
  {
   "cell_type": "markdown",
   "id": "0e25120a-13c8-4a44-9526-c517709d2181",
   "metadata": {},
   "source": [
    "If you are familiar with the SAC file format, you will know that it has a lot of header variables for metadata. For example for the station and event coordinates:"
   ]
  },
  {
   "cell_type": "code",
   "execution_count": 3,
   "id": "7e553472-8946-427d-8774-5d60a0d11747",
   "metadata": {},
   "outputs": [
    {
     "name": "stdout",
     "output_type": "stream",
     "text": [
      "Station coordinates: None/None\n",
      "Event coordinates: None/None\n"
     ]
    }
   ],
   "source": [
    "def print_coords(sac):\n",
    "    print(f\"Station coordinates: {sac.stla}/{sac.stlo}\")\n",
    "    print(f\"Event coordinates: {sac.evla}/{sac.evlo}\")\n",
    "\n",
    "\n",
    "print_coords(sac)"
   ]
  },
  {
   "cell_type": "markdown",
   "id": "ece17982",
   "metadata": {},
   "source": [
    "Whoops! It appears our SAC file was missing values for these headers. This is not really surprising, as many of the SAC headers are optional fields. Let's fix this before proceeding:"
   ]
  },
  {
   "cell_type": "code",
   "execution_count": 4,
   "id": "8db1c42e-3025-4abf-8919-45a4434f5e87",
   "metadata": {},
   "outputs": [
    {
     "name": "stdout",
     "output_type": "stream",
     "text": [
      "Station coordinates: 34.9462/106.4567\n",
      "Event coordinates: 2.09/-97.15\n"
     ]
    }
   ],
   "source": [
    "sac.stla, sac.stlo = 34.9462, 106.4567\n",
    "sac.evla, sac.evlo = 2.09, -97.15\n",
    "\n",
    "print_coords(sac)"
   ]
  },
  {
   "cell_type": "markdown",
   "id": "38128cf1-85bc-4cf6-92df-749afd5f9b34",
   "metadata": {},
   "source": [
    "### A new seismogram class\n",
    "\n",
    "Anyone not familiar with the SAC file format could easily be confused or overwhelmed by all the different SAC header fields. Working with a class with more descriptive attribute names is probably easier. A rudimentary class may look something like this:"
   ]
  },
  {
   "cell_type": "code",
   "execution_count": 5,
   "id": "2232b6fd-44fd-4bc3-bb58-999779c0ef4d",
   "metadata": {},
   "outputs": [],
   "source": [
    "# %load tutorial_seismogram.py\n",
    "from dataclasses import dataclass\n",
    "import numpy as np\n",
    "\n",
    "\n",
    "@dataclass\n",
    "class TutorialSeismogram:\n",
    "    event_latitude: float | None\n",
    "    event_longitude: float | None\n",
    "    station_latitude: float | None\n",
    "    station_longitude: float | None\n",
    "    delta: float\n",
    "    data: np.ndarray"
   ]
  },
  {
   "cell_type": "markdown",
   "id": "5299d7a1-eba8-4fc6-a59d-5fb38107120f",
   "metadata": {},
   "source": [
    "Next we create an instance of this class using data from `sac`:"
   ]
  },
  {
   "cell_type": "code",
   "execution_count": 6,
   "id": "71061c94-ea45-4dfd-8470-f6c0642d0262",
   "metadata": {},
   "outputs": [],
   "source": [
    "from copy import copy\n",
    "\n",
    "tseis = TutorialSeismogram(\n",
    "    event_latitude=sac.evla,\n",
    "    event_longitude=sac.evlo,\n",
    "    station_latitude=sac.stla,\n",
    "    station_longitude=sac.stlo,\n",
    "    delta=sac.delta,\n",
    "    data=copy(sac.data),\n",
    ")"
   ]
  },
  {
   "cell_type": "markdown",
   "id": "25b71ad3-fea4-4c5e-ae8a-e8918a17a608",
   "metadata": {},
   "source": [
    "### Using a seismogram in a function\n",
    "\n",
    "So far so good. Let's use our new object and use it to calculate something. As we now have event and station coordinates, we can use them to determine the great circle distance between them. To do so we write a function (complete with type hints):"
   ]
  },
  {
   "cell_type": "code",
   "execution_count": 7,
   "id": "a74fac1c-2b80-4820-8013-f5aeb98537d2",
   "metadata": {},
   "outputs": [],
   "source": [
    "# %load calc_gcd_from_seismogram.py\n",
    "from pyproj import Geod  # We will use the Geod class for the calculations\n",
    "from tutorial_seismogram import TutorialSeismogram\n",
    "\n",
    "\n",
    "def calc_gcd_from_seismogram(seismogram: TutorialSeismogram) -> float:\n",
    "    g = Geod(ellps=\"WGS84\")\n",
    "    # The g.inv method returns azimuth, back-azimuth and distance (in metres)\n",
    "    # We only need the distance here:\n",
    "    _, _, dist = g.inv(\n",
    "        lons1=seismogram.event_longitude,\n",
    "        lats1=seismogram.event_latitude,\n",
    "        lons2=seismogram.station_longitude,\n",
    "        lats2=seismogram.station_latitude,\n",
    "    )\n",
    "    return round(dist / 1000)"
   ]
  },
  {
   "cell_type": "markdown",
   "id": "15f18758-6eb1-47ab-8441-5c7ba291272d",
   "metadata": {},
   "source": [
    "Before running the function with our `tsac` object, let's think about what we can infer from the first line of the function definition. Basically it reads: \"define a function called `calc_gcd_from_seismogram` that uses data in a variable called `seismogram` (which is of type `TutorialSeismogram`) and return a `float`. That is quite concise, but probably also sounds a bit strange - calculating a distance from a seismogram...? That is because in order to intuitively understand this function, a user needs to have intricate knowlege of the structure of the input object (`TutorialSeismogram`).\n",
    "\n",
    "Calling the function with our data we get:"
   ]
  },
  {
   "cell_type": "code",
   "execution_count": 8,
   "id": "e3ff905c-5569-4b44-b15b-d00cb73e7d9a",
   "metadata": {},
   "outputs": [
    {
     "name": "stdout",
     "output_type": "stream",
     "text": [
      "The great circle distance is 15229 km\n"
     ]
    }
   ],
   "source": [
    "distance = calc_gcd_from_seismogram(tseis)\n",
    "print(f\"The great circle distance is {distance} km\")"
   ]
  },
  {
   "cell_type": "markdown",
   "id": "038a25cc-ba43-42d5-9c68-6145b08952c2",
   "metadata": {},
   "source": [
    "Great, this worked! However, there are two problems with our implementation:\n",
    "\n",
    "1. Because the input type is a particular class (i.e. `TutorialSeismogram`) rather than a `Protocol` class, this function only works with that one input type.\n",
    "2. It will crash when any of the coordinates are `None` (you can test this by downloading the data again and running the function without adding the station and event coordinates first). Given that many of the headers in a SAC file are optional this is a likely scenario that we need to manage in our code."
   ]
  },
  {
   "cell_type": "markdown",
   "id": "f4863732-80ee-48f7-b705-8edde95bed64",
   "metadata": {},
   "source": [
    "### A function using only builtin types\n",
    "\n",
    "Both of these problems can be addressed with a more general implementation using only the built-in `float`:"
   ]
  },
  {
   "cell_type": "code",
   "execution_count": 9,
   "id": "3b0637f5-df4b-420c-9dd6-156c62308077",
   "metadata": {},
   "outputs": [],
   "source": [
    "# %load calc_gcd_from_floats.py\n",
    "from pyproj import Geod\n",
    "\n",
    "\n",
    "def calc_gcd_from_floats(\n",
    "    longitude_1: float, latitude_1: float, longitude_2: float, latitude_2: float\n",
    ") -> float:\n",
    "    g = Geod(ellps=\"WGS84\")\n",
    "    _, _, dist = g.inv(\n",
    "        lons1=longitude_1, lats1=latitude_1, lons2=longitude_2, lats2=latitude_2\n",
    "    )\n",
    "    return round(dist / 1000)"
   ]
  },
  {
   "cell_type": "markdown",
   "id": "354d0222-689e-4bcb-a9b1-b2fb5e2ec277",
   "metadata": {},
   "source": [
    "Which reads as: \"define a function called `calc_gcd_from_floats` that uses a variable called `longitude_1` (which is a `float`), a variable called `latitude_1` (which is a `float`), a variable called `longitude_2` (which is a `float`), a variable called `latitude_2` (which is a float), and return a `float`\". That is not only a bit awkward to read, but also less convenient to use:"
   ]
  },
  {
   "cell_type": "code",
   "execution_count": 10,
   "id": "8eb7276f-43ad-48cd-a03d-49f00f5d9b3b",
   "metadata": {},
   "outputs": [
    {
     "name": "stdout",
     "output_type": "stream",
     "text": [
      "The great circle distance is 15229 km\n"
     ]
    }
   ],
   "source": [
    "distance = calc_gcd_from_floats(\n",
    "    tseis.event_longitude,\n",
    "    tseis.event_latitude,\n",
    "    tseis.station_longitude,\n",
    "    tseis.station_latitude,\n",
    ")\n",
    "print(f\"The great circle distance is {distance} km\")"
   ]
  },
  {
   "cell_type": "markdown",
   "id": "867425cf-5d20-48df-8357-db4f3e9883ad",
   "metadata": {},
   "source": [
    "It will, however also work with `SAC` objects:"
   ]
  },
  {
   "cell_type": "code",
   "execution_count": 11,
   "id": "07c980f0-8ba5-4ac6-a857-bee65a1aeae1",
   "metadata": {},
   "outputs": [
    {
     "name": "stdout",
     "output_type": "stream",
     "text": [
      "The great circle distance is 15229 km\n"
     ]
    }
   ],
   "source": [
    "distance = calc_gcd_from_floats(sac.evlo, sac.evla, sac.stlo, sac.stla)\n",
    "print(f\"The great circle distance is {distance} km\")"
   ]
  },
  {
   "cell_type": "markdown",
   "id": "fb3182d1-141e-4462-b815-8f4c0abc659a",
   "metadata": {},
   "source": [
    "### A happy middle ground\n",
    "\n",
    "The two functions we used could be characterised as being on opposite ends of the spectrum: one function uses a single, somewhat complex object as input, while the other uses only the most fundamental types that are built into Python. Leaving aside any advantages or shortcomings of either approach and just focusing on the task at hand - calculating the distance between two points - we might find a function signature more like this to be easiest to read/understand:\n",
    "\n",
    "```python\n",
    "def calc_gcd(point1: Location,\n",
    "             point2: Location,\n",
    "            ) -> float: ...\n",
    "```\n",
    "\n",
    "`Location` is indeed a type in pysmo, and we could implement the `gcd` function as follows:"
   ]
  },
  {
   "cell_type": "code",
   "execution_count": 12,
   "id": "b111ab40-36ff-4f27-849e-a2a178646a7b",
   "metadata": {},
   "outputs": [],
   "source": [
    "# %load calc_gcd_pysmo.py\n",
    "from pyproj import Geod\n",
    "from pysmo import Location\n",
    "\n",
    "\n",
    "def calc_gcd(point1: Location, point2: Location) -> float:\n",
    "    g = Geod(ellps=\"WGS84\")\n",
    "    _, _, dist = g.inv(\n",
    "        lons1=point1.longitude,\n",
    "        lats1=point1.latitude,\n",
    "        lons2=point2.longitude,\n",
    "        lats2=point2.latitude,\n",
    "    )\n",
    "    return round(dist / 1000)"
   ]
  },
  {
   "cell_type": "markdown",
   "id": "b500a4f2-31e6-473f-9d49-3dd721682e44",
   "metadata": {},
   "source": [
    "`Location` is a `Protocol` class that has just two attributes (which are both `floats`). We can list them like this:"
   ]
  },
  {
   "cell_type": "code",
   "execution_count": 13,
   "id": "be83d52e-4825-42cd-ad9b-437587f5f58c",
   "metadata": {},
   "outputs": [
    {
     "data": {
      "text/plain": [
       "{'latitude', 'longitude'}"
      ]
     },
     "execution_count": 13,
     "metadata": {},
     "output_type": "execute_result"
    }
   ],
   "source": [
    "Location.__protocol_attrs__"
   ]
  },
  {
   "cell_type": "markdown",
   "id": "651f7bb7-987d-42f4-8168-275d72e2d6e3",
   "metadata": {},
   "source": [
    "Neither of the two classes above have these attributes, and can therefore not be used as inputs for this function:"
   ]
  },
  {
   "cell_type": "code",
   "execution_count": 14,
   "id": "6ecbd9c5-bac0-4f9f-8d79-31545d65a8d3",
   "metadata": {},
   "outputs": [
    {
     "data": {
      "text/plain": [
       "(False, False)"
      ]
     },
     "execution_count": 14,
     "metadata": {},
     "output_type": "execute_result"
    }
   ],
   "source": [
    "isinstance(tseis, Location), isinstance(sac, Location)"
   ]
  },
  {
   "cell_type": "markdown",
   "id": "00b23442-9d98-4a6f-a245-3cb2d02b5523",
   "metadata": {},
   "source": [
    "You have now reached an important point in this tutorial! It would appear that our nice function with pysmo types cannot be used with our data. Assuming you need to work with two types of seismogram objects (e.g. `SAC` and `TutorialSeismogram`) you have three options going forward:\n",
    "\n",
    "1. Write the same function two times for each class.\n",
    "2. Use only built-in types in your functions.\n",
    "3. Make your classes work with pysmo types.\n",
    "\n",
    "Given that the number of functions is almost always going to be far greater then the number of classes, (1) doesn't seem reasonable. (2) might seem okay at first, but consider that everytime you want to call a function you will have to write something like this:\n",
    "\n",
    "```python\n",
    "if isinstance(seismogram, SAC):\n",
    "    distance = calc_gcd_from_floats(\n",
    "    sac_seis.evlo, sac_seis.evla, sac_seis.stlo, sac_seis.stla\n",
    "    )\n",
    "elif isinstance(seismogram, TutorialSeismogram):\n",
    "    distance = calc_gcd_from_floats(\n",
    "    seismogram.event_longitude,\n",
    "    seismogram.event_latitude,\n",
    "    seismogram.station_longitude,\n",
    "    seismogram.station_latitude,\n",
    "    )\n",
    "```\n",
    "\n",
    "This too is a lot of work, and it will only get worse if more classes need to be added sometime in the future. Moreover, if at any point one of the classes changes (e.g. the names of SAC headers change - though that is probably unlikely to actually happen...), you will have to adjust your code accordingly. Conversely, a `Location` type with only two attributes, `latitude` and `longitude`, is pretty much guaranteed to never change (something to consider even if you are only working with one type).\n",
    "\n",
    "This leaves the last option - make your classes work with pysmo types. There may be different ways of achieving this, but for this tutorial we show how to modify existing classes to make them work with pysmo types directly.\n"
   ]
  },
  {
   "cell_type": "markdown",
   "id": "da9698e1-68bd-4997-9402-eb00c4c241f6",
   "metadata": {},
   "source": [
    "### Modifying an existing class\n",
    "\n",
    "The problem we need to solve with our existing `TutorialSeismogram` class is really that two sets of coordinates need to be managed using the same name. In order to use e.g. `station_latitude` as `latitude` we need to map it in a way that doesn't interfere with `event_latitude`. We can do this with what one could call \"helper\" classes that themselves are attributes of the main class. We define one such class for station data and one for event data:"
   ]
  },
  {
   "cell_type": "code",
   "execution_count": 15,
   "id": "5ca22d55-5b09-4681-ba0e-02e7944a6221",
   "metadata": {},
   "outputs": [],
   "source": [
    "# %load tutorial_seismogram_pysmo.py\n",
    "from dataclasses import dataclass, field\n",
    "from tutorial_seismogram import TutorialSeismogram\n",
    "\n",
    "\n",
    "@dataclass\n",
    "class TutorialStation:\n",
    "    parent: TutorialSeismogram\n",
    "\n",
    "    @property\n",
    "    def latitude(self) -> float:\n",
    "        if self.parent.station_latitude is None:\n",
    "            raise ValueError(\"parent value may not be None\")\n",
    "        return self.parent.station_latitude\n",
    "\n",
    "    @latitude.setter\n",
    "    def latitude(self, value: float):\n",
    "        self.parent.station_latitude = value\n",
    "\n",
    "    @property\n",
    "    def longitude(self) -> float:\n",
    "        if self.parent.station_longitude is None:\n",
    "            raise ValueError(\"parent value may not be None\")\n",
    "        return self.parent.station_longitude\n",
    "\n",
    "    @longitude.setter\n",
    "    def longitude(self, value: float):\n",
    "        self.parent.station_longitude = value\n",
    "\n",
    "\n",
    "@dataclass\n",
    "class TutorialEvent:\n",
    "    parent: TutorialSeismogram\n",
    "\n",
    "    @property\n",
    "    def latitude(self) -> float:\n",
    "        if self.parent.event_latitude is None:\n",
    "            raise ValueError(\"parent value may not be None\")\n",
    "        return self.parent.event_latitude\n",
    "\n",
    "    @latitude.setter\n",
    "    def latitude(self, value: float):\n",
    "        self.parent.event_latitude = value\n",
    "\n",
    "    @property\n",
    "    def longitude(self) -> float:\n",
    "        if self.parent.event_longitude is None:\n",
    "            raise ValueError(\"parent value may not be None\")\n",
    "        return self.parent.event_longitude\n",
    "\n",
    "    @longitude.setter\n",
    "    def longitude(self, value: float):\n",
    "        self.parent.event_longitude = value\n",
    "\n",
    "\n",
    "@dataclass\n",
    "class TutorialSeismogramPysmo(TutorialSeismogram):\n",
    "    station: TutorialStation = field(init=False)\n",
    "    event: TutorialEvent = field(init=False)\n",
    "\n",
    "    def __post_init__(self) -> None:\n",
    "        self.station = TutorialStation(parent=self)\n",
    "        self.event = TutorialEvent(parent=self)"
   ]
  },
  {
   "cell_type": "markdown",
   "id": "b5ea8594-294e-4e62-b1ad-6b5371d4a52a",
   "metadata": {},
   "source": [
    "This is a bit of effort upfront, but consider that you only need to do this once! As before we can create an instance of our class from the data in the sac object:"
   ]
  },
  {
   "cell_type": "code",
   "execution_count": 16,
   "id": "244c7ed8-9e2c-4d4c-b852-63e14609e67b",
   "metadata": {},
   "outputs": [],
   "source": [
    "from copy import copy\n",
    "\n",
    "tseisp = TutorialSeismogramPysmo(\n",
    "    event_latitude=sac.evla,\n",
    "    event_longitude=sac.evlo,\n",
    "    station_latitude=sac.stla,\n",
    "    station_longitude=sac.stlo,\n",
    "    delta=sac.delta,\n",
    "    data=copy(sac.data),\n",
    ")"
   ]
  },
  {
   "cell_type": "markdown",
   "id": "a493dc47-bf4d-4f8f-890e-db31577d5a2c",
   "metadata": {},
   "source": [
    "And verify that e.g. `tseisp.event_latitude` is the same as `tseisp.event.latitude`:"
   ]
  },
  {
   "cell_type": "code",
   "execution_count": 17,
   "id": "256a2d60-cf1c-4ebd-a173-a5d5b00266ec",
   "metadata": {},
   "outputs": [
    {
     "data": {
      "text/plain": [
       "True"
      ]
     },
     "execution_count": 17,
     "metadata": {},
     "output_type": "execute_result"
    }
   ],
   "source": [
    "tseisp.event_latitude == tseisp.event.latitude"
   ]
  },
  {
   "cell_type": "markdown",
   "id": "b2b7e0b2-9c29-45de-81a0-4b4856f9af9d",
   "metadata": {},
   "source": [
    "This is still true after modifying an attribute:"
   ]
  },
  {
   "cell_type": "code",
   "execution_count": 18,
   "id": "3242dce0-b0c2-40a2-8b99-80404c2dab3a",
   "metadata": {},
   "outputs": [
    {
     "data": {
      "text/plain": [
       "True"
      ]
     },
     "execution_count": 18,
     "metadata": {},
     "output_type": "execute_result"
    }
   ],
   "source": [
    "tseisp.event.latitude = 12.34\n",
    "tseisp.event_latitude == tseisp.event.latitude"
   ]
  },
  {
   "cell_type": "markdown",
   "id": "d2907923-dc90-4b4c-aeaf-31548dbb2c80",
   "metadata": {},
   "source": [
    "We can also verify that the helper classes match the `Location` type:"
   ]
  },
  {
   "cell_type": "code",
   "execution_count": 19,
   "id": "a05b87ad-fd49-40df-879b-77505dec9657",
   "metadata": {},
   "outputs": [
    {
     "name": "stdout",
     "output_type": "stream",
     "text": [
      "tseisp.event matches Location type: True\n",
      "tseisp.station matches Location type: True\n"
     ]
    }
   ],
   "source": [
    "print(f\"tseisp.event matches Location type: {isinstance(tseisp.event, Location)}\")\n",
    "print(f\"tseisp.station matches Location type: {isinstance(tseisp.station, Location)}\")"
   ]
  },
  {
   "cell_type": "markdown",
   "id": "9fd52c9b-53a7-4883-b2a7-872776431cca",
   "metadata": {},
   "source": [
    "Finally, lets run the `calc_gcd()` function with the modified class:"
   ]
  },
  {
   "cell_type": "code",
   "execution_count": 20,
   "id": "82debe61-b283-4669-8ee1-3bec6aca9d1a",
   "metadata": {},
   "outputs": [
    {
     "name": "stdout",
     "output_type": "stream",
     "text": [
      "The great circle distance is 14213 km\n"
     ]
    }
   ],
   "source": [
    "distance = calc_gcd(tseisp.event, tseisp.station)\n",
    "\n",
    "print(f\"The great circle distance is {distance} km\")"
   ]
  },
  {
   "cell_type": "markdown",
   "id": "2e71ce70-9beb-4ce2-8859-3db7e85ae793",
   "metadata": {},
   "source": [
    "That seemed to work!\n",
    "\n",
    "Spoiler: the `SAC` class already has such helper classes..."
   ]
  },
  {
   "cell_type": "code",
   "execution_count": 21,
   "id": "443a147c-4a0d-4949-9354-29bb478d41f3",
   "metadata": {},
   "outputs": [
    {
     "name": "stdout",
     "output_type": "stream",
     "text": [
      "The great circle distance is 15229 km\n"
     ]
    }
   ],
   "source": [
    "distance = calc_gcd(sac.event, sac.station)\n",
    "\n",
    "print(f\"The great circle distance is {distance} km\")"
   ]
  },
  {
   "cell_type": "markdown",
   "id": "132cb524-4677-49d0-98a1-d83b7a9c4cd3",
   "metadata": {},
   "source": [
    "which also map other attributes:"
   ]
  },
  {
   "cell_type": "code",
   "execution_count": 22,
   "id": "96ef7380-1832-47f3-b8e1-d2b3a2ad0ef9",
   "metadata": {},
   "outputs": [
    {
     "data": {
      "text/plain": [
       "'ANMO'"
      ]
     },
     "execution_count": 22,
     "metadata": {},
     "output_type": "execute_result"
    }
   ],
   "source": [
    "sac.station.name"
   ]
  },
  {
   "cell_type": "markdown",
   "id": "21f5da14-6aa9-4b91-bb8e-c609da96d80d",
   "metadata": {},
   "source": [
    "### Summary\n",
    "\n",
    "This example demonstrates how to write functions using pysmo types and what some advantages are:\n",
    "\n",
    "- Pysmo types are simple and intuitive (e.g. the `Location` type only has two attributes, whereas the `SAC` class has over 100 (due to the large number of header fields specified in the file format.\n",
    "- Because the types are so simple, values of `None` are typically not allowed in their attributes. A SAC file without event coordinates is still a valid SAC file, whereas a location with no latitude or longitude doesn't make sense.\n",
    "- The simplicity of the types also results in the functions written with them being useful in more situations. We may have e.g. an `Airport` class we could use with the `calc_gcd()` function to calculate how far apart two airports are.\n",
    "\n",
    "In conclusion, we believe that a good class for storing data (where we may want to have as much metadata as possible), is not necessarily the best class to use inside functions (where we only use a small portion of the data stored in the class). The best way to overcome this chasm is to use (simple!) `Protocol` classes to annotate functions and ensure we use compatible classes as input."
   ]
  },
  {
   "cell_type": "markdown",
   "id": "d577ca95-e2e1-4cb5-ab5e-a397829e3c89",
   "metadata": {},
   "source": [
    "## A Seismogram in pysmo\n",
    "\n",
    "In the previous example we saw that pysmo types (e.g. `Location`) contain a very small number of attributes compared to a class like `SAC`. This essentially allows us to focus only on part of the data contained in a `SAC` object and ignore the rest. In a sense this means we don't distinguish between \"data\" and \"metadata - there is only the data that are currently being used by a pysmo type. An important such type is of course the seismogram."
   ]
  },
  {
   "cell_type": "markdown",
   "id": "f33162de-9f14-4ab6-9f71-a3c6477de642",
   "metadata": {},
   "source": [
    "### The Seismogram type\n",
    "\n",
    "Pysmo provides a `Seismogram` type which only has 5 attributes (though `__len__` actually has to be implemented as a method for the `len()` function):"
   ]
  },
  {
   "cell_type": "code",
   "execution_count": 23,
   "id": "0f76e52b-5ab0-47bf-87a2-e1136fb224ef",
   "metadata": {},
   "outputs": [
    {
     "data": {
      "text/plain": [
       "{'__len__', 'begin_time', 'data', 'delta', 'end_time'}"
      ]
     },
     "execution_count": 23,
     "metadata": {},
     "output_type": "execute_result"
    }
   ],
   "source": [
    "from pysmo import Seismogram\n",
    "\n",
    "Seismogram.__protocol_attrs__"
   ]
  },
  {
   "cell_type": "markdown",
   "id": "d144163d-cfbd-46e7-a5b6-de1657a5c897",
   "metadata": {},
   "source": [
    "And as before we can use the `SAC` class with this type via a nested helper class:"
   ]
  },
  {
   "cell_type": "code",
   "execution_count": 24,
   "id": "e8b62d2f-2fa0-4a87-a4b8-9c379284d80f",
   "metadata": {},
   "outputs": [
    {
     "data": {
      "text/plain": [
       "True"
      ]
     },
     "execution_count": 24,
     "metadata": {},
     "output_type": "execute_result"
    }
   ],
   "source": [
    "isinstance(sac.seismogram, Seismogram)"
   ]
  },
  {
   "cell_type": "markdown",
   "id": "71b37869-1da6-45c7-924c-cf368e3f319d",
   "metadata": {},
   "source": [
    "We can therefore explore the attribute values using the `sac` object. The `begin_time` is a point in time, that is roughly equivalent to the `B` header in a sac file:"
   ]
  },
  {
   "cell_type": "code",
   "execution_count": 25,
   "id": "47aaabf1-2355-4486-a232-306daf604c71",
   "metadata": {},
   "outputs": [
    {
     "data": {
      "text/plain": [
       "datetime.datetime(2005, 3, 28, 15, 0, 0, 498100, tzinfo=datetime.timezone.utc)"
      ]
     },
     "execution_count": 25,
     "metadata": {},
     "output_type": "execute_result"
    }
   ],
   "source": [
    "sac.seismogram.begin_time"
   ]
  },
  {
   "cell_type": "markdown",
   "id": "b20d9086-fbcd-4dfa-a5de-f1936a77e6f0",
   "metadata": {},
   "source": [
    "However, unlike `B`..."
   ]
  },
  {
   "cell_type": "code",
   "execution_count": 26,
   "id": "7987ae9f-e858-47e8-b3ff-40d0e9058100",
   "metadata": {},
   "outputs": [
    {
     "data": {
      "text/plain": [
       "9.999999747378752e-05"
      ]
     },
     "execution_count": 26,
     "metadata": {},
     "output_type": "execute_result"
    }
   ],
   "source": [
    "sac.b"
   ]
  },
  {
   "cell_type": "markdown",
   "id": "30656080-d8a5-4dbe-9836-a50cf268eca1",
   "metadata": {},
   "source": [
    "...it is not a relative time, but an absolute time that uses Python's `datetime` module. Similarly the sampling interval `delta` is a `timedelta` rather than a float:"
   ]
  },
  {
   "cell_type": "code",
   "execution_count": 27,
   "id": "ed446f44-0cd1-45cc-8506-d56345c79d7e",
   "metadata": {},
   "outputs": [
    {
     "data": {
      "text/plain": [
       "datetime.timedelta(seconds=1)"
      ]
     },
     "execution_count": 27,
     "metadata": {},
     "output_type": "execute_result"
    }
   ],
   "source": [
    "sac.seismogram.delta"
   ]
  },
  {
   "cell_type": "code",
   "execution_count": 28,
   "id": "82488729-eb6a-4cb6-8c50-6d16e047a407",
   "metadata": {},
   "outputs": [
    {
     "data": {
      "text/plain": [
       "1.0"
      ]
     },
     "execution_count": 28,
     "metadata": {},
     "output_type": "execute_result"
    }
   ],
   "source": [
    "sac.delta"
   ]
  },
  {
   "cell_type": "markdown",
   "id": "9b12328e-e719-4ac8-a214-87cbfe5d3f6c",
   "metadata": {},
   "source": [
    "All time related variables in pysmo make use of the datetime module, as it greatly simplifies time calculations. For example, the time of the last sample in the seismogram can be calculated as:"
   ]
  },
  {
   "cell_type": "code",
   "execution_count": 29,
   "id": "2f6e3bc3-3e59-4e43-9889-05e7eb3766cc",
   "metadata": {},
   "outputs": [
    {
     "data": {
      "text/plain": [
       "datetime.datetime(2005, 3, 28, 19, 59, 59, 498100, tzinfo=datetime.timezone.utc)"
      ]
     },
     "execution_count": 29,
     "metadata": {},
     "output_type": "execute_result"
    }
   ],
   "source": [
    "sac.seismogram.begin_time + (len(sac.seismogram) - 1) * sac.seismogram.delta"
   ]
  },
  {
   "cell_type": "markdown",
   "id": "5bcf190b-1be1-4f6b-94c7-d700daf177ad",
   "metadata": {},
   "source": [
    "This exact calculation is actually done to calculate the `end_time` attribute in the `SAC` class:"
   ]
  },
  {
   "cell_type": "code",
   "execution_count": 30,
   "id": "5b9dc29c-ba53-44c7-b11a-b77617ea20dd",
   "metadata": {},
   "outputs": [
    {
     "data": {
      "text/plain": [
       "datetime.datetime(2005, 3, 28, 19, 59, 59, 498100, tzinfo=datetime.timezone.utc)"
      ]
     },
     "execution_count": 30,
     "metadata": {},
     "output_type": "execute_result"
    }
   ],
   "source": [
    "sac.seismogram.end_time"
   ]
  },
  {
   "cell_type": "markdown",
   "id": "1f2dd888-89a5-4b23-be33-de909dd87a3d",
   "metadata": {},
   "source": [
    "Because the `end_time` can be derived from other attributes already present in the class, it is a read-only property. If we try to change it we get an error:"
   ]
  },
  {
   "cell_type": "code",
   "execution_count": 31,
   "id": "c8f2bd77-a10b-43e3-8467-bf4f7c0cced3",
   "metadata": {},
   "outputs": [
    {
     "name": "stdout",
     "output_type": "stream",
     "text": [
      "Error: property 'end_time' of 'SacSeismogram' object has no setter\n"
     ]
    }
   ],
   "source": [
    "from datetime import timedelta\n",
    "\n",
    "try:\n",
    "    sac.seismogram.end_time += timedelta(seconds=10)\n",
    "except AttributeError as e:\n",
    "    print(f\"Error: {e}\")"
   ]
  },
  {
   "cell_type": "markdown",
   "id": "3ab0592c-bc2a-43a7-b4fa-042ad7381197",
   "metadata": {},
   "source": [
    "If it were writeable, changing the `end_time` would require updating either the `begin_time` or `delta` attribute (or both!). As there is no way of knowing how to do this, pysmo types never contain writetable attributes that can be derived by others."
   ]
  },
  {
   "cell_type": "markdown",
   "id": "ed4389eb-28a2-497c-ad1d-67cd8b837ef9",
   "metadata": {},
   "source": [
    "### Functions with multiple input types\n",
    "\n",
    "As with the `Location` type above, using `Seismogram` restricts usage of the attributes of a `SAC` object to the ones that defined by the type. So if we want to use attributes that are in two seperate pysmo types, we need to use both types in our function: "
   ]
  },
  {
   "cell_type": "code",
   "execution_count": 32,
   "id": "0adecc2c-f61c-4a8b-8277-717d06eec07e",
   "metadata": {},
   "outputs": [],
   "source": [
    "# %load plot_seismo_gcd.py\n",
    "from matplotlib import pyplot as plt\n",
    "import numpy as np\n",
    "from pysmo import Seismogram, Location\n",
    "from calc_gcd_pysmo import calc_gcd\n",
    "\n",
    "\n",
    "def plot_seismo_gcd(seismogram: Seismogram, point1: Location, point2: Location) -> None:\n",
    "    distance = calc_gcd(point1, point2)\n",
    "    t = np.array(\n",
    "        [seismogram.begin_time + seismogram.delta * i for i in range(len(seismogram))]\n",
    "    )\n",
    "    plt.plot(t, seismogram.data, \"g\")\n",
    "    plt.title(f\"Distance: {distance} km\")\n",
    "    plt.gcf().autofmt_xdate()"
   ]
  },
  {
   "cell_type": "code",
   "execution_count": 33,
   "id": "ea3177ce-8a41-431b-b637-a013b0e2c673",
   "metadata": {},
   "outputs": [
    {
     "data": {
      "image/png": "[encoded data removed]",
      "text/plain": [
       "<Figure size 640x480 with 1 Axes>"
      ]
     },
     "metadata": {},
     "output_type": "display_data"
    }
   ],
   "source": [
    "%matplotlib inline\n",
    "plot_seismo_gcd(sac.seismogram, sac.event, sac.station)"
   ]
  },
  {
   "cell_type": "markdown",
   "id": "27d7aabe-53a2-4657-ac06-5c18df0e6b40",
   "metadata": {},
   "source": [
    "As before we can run the function with other classes, or even mix them:"
   ]
  },
  {
   "cell_type": "code",
   "execution_count": 34,
   "id": "e7f4b06c-3617-4455-9a2b-e10272a1dda6",
   "metadata": {},
   "outputs": [
    {
     "data": {
      "image/png": "[encoded data removed]",
      "text/plain": [
       "<Figure size 640x480 with 1 Axes>"
      ]
     },
     "metadata": {},
     "output_type": "display_data"
    }
   ],
   "source": [
    "plot_seismo_gcd(sac.seismogram, tseisp.event, tseisp.station)"
   ]
  },
  {
   "cell_type": "markdown",
   "id": "425cdf1a-5cfe-49eb-b02b-5100000dcd7d",
   "metadata": {},
   "source": [
    "### Summary\n",
    "\n",
    "The `Seismogram` type exemplifies the simplicity of pysmo types. It contains only four attributs and a `__len__` method (for the python `len()` function). What would typically be considered metadata in traditional seismograms (e.g. in Python classes or file formats) is not part of the type. While they may well be *stored* together, they are instead treated as their own distinct types during *processing* and therefore may need to be passed to functions seperately."
   ]
  },
  {
   "cell_type": "markdown",
   "id": "fd286d44-89b6-40b4-9f73-155bf2d9960e",
   "metadata": {},
   "source": [
    "## Mini Classes\n",
    "\n",
    "Using protocol classes to annotate functions allows for a lot of freedom when it comes to the class(es) used for storing data. Those classes may be specific to an application, file format, use a database backend, download data from the internet etc, and they will still work with pysmo types. For situations where such classes are too comprehensive or you want to potentially speed up performance, pysmo provides minimal implementations of compatible classes for each type - the pysmo \"mini\" classes. These classes:\n",
    "\n",
    "- Have the same names as their respective types, but with a \"Mini\" prefix (e.g. the `Location` type has a `MiniLocation` class).\n",
    "- Have exactly the same attributes as the types.\n",
    "- Are, together with pysmo types, the only items in the base namespace (i.e. importable via `from pysmo import ...`)."
   ]
  },
  {
   "cell_type": "markdown",
   "id": "fbd97f5a-9fc4-40c6-a056-c356cf17215b",
   "metadata": {},
   "source": [
    "### Creating a new Mini instance\n",
    "\n",
    "The Mini classes can be instantiated by simply passing the attribute values:"
   ]
  },
  {
   "cell_type": "code",
   "execution_count": 35,
   "id": "81daaf88-1a86-48e1-99bc-3c1499dac39e",
   "metadata": {},
   "outputs": [
    {
     "name": "stdout",
     "output_type": "stream",
     "text": [
      "mini_location=MiniLocation(latitude=12, longitude=34) is an instance of Location: True\n"
     ]
    }
   ],
   "source": [
    "from pysmo import MiniLocation\n",
    "\n",
    "mini_location = MiniLocation(latitude=12, longitude=34)\n",
    "print(\n",
    "    f\"{mini_location=} is an instance of Location: {isinstance(mini_location, Location)}\"\n",
    ")"
   ]
  },
  {
   "cell_type": "markdown",
   "id": "cd19d2f0-91a9-41e9-a2cf-03c650a99815",
   "metadata": {},
   "source": [
    "The `MiniSeismogram` class has defaults, so an instance can be created without providing attribute values:"
   ]
  },
  {
   "cell_type": "code",
   "execution_count": 36,
   "id": "58cc2696-b5a5-41a1-8f4f-2c5f3f74b9c7",
   "metadata": {},
   "outputs": [
    {
     "name": "stdout",
     "output_type": "stream",
     "text": [
      "mini_seismogram=MiniSeismogram(begin_time=datetime.datetime(1970, 1, 1, 0, 0, tzinfo=datetime.timezone.utc), delta=datetime.timedelta(seconds=1), data=array([], dtype=float64)) is an instance of Seismogram: True\n"
     ]
    }
   ],
   "source": [
    "from pysmo import MiniSeismogram\n",
    "\n",
    "mini_seismogram = MiniSeismogram()\n",
    "print(\n",
    "    f\"{mini_seismogram=} is an instance of Seismogram: {isinstance(mini_seismogram, Seismogram)}\"\n",
    ")"
   ]
  },
  {
   "cell_type": "markdown",
   "id": "c5558f06-0807-43fa-95d8-83d72615111d",
   "metadata": {},
   "source": [
    "Note that the mini classes do not allow creating new attributes:"
   ]
  },
  {
   "cell_type": "code",
   "execution_count": 37,
   "id": "18f16b2d-e390-45b8-a1ba-0b2787e59d28",
   "metadata": {},
   "outputs": [
    {
     "name": "stdout",
     "output_type": "stream",
     "text": [
      "AttributeError: 'MiniSeismogram' object has no attribute 'custom_attribute'\n"
     ]
    }
   ],
   "source": [
    "try:\n",
    "    mini_seismogram.custom_attribute = 123\n",
    "except AttributeError as e:\n",
    "    print(f\"AttributeError: {e}\")"
   ]
  },
  {
   "cell_type": "markdown",
   "id": "214f6007-22ae-4e72-9e2c-fbb7f5500629",
   "metadata": {},
   "source": [
    "### Creating a Mini clone\n",
    "\n",
    "Another way to create Mini instances is to clone an existing object using the `clone_to_mini()` function. For example from the `sac` object we created right at the beginning:"
   ]
  },
  {
   "cell_type": "code",
   "execution_count": 38,
   "id": "3b4fca26-33c6-444e-8f15-4bc99543e30d",
   "metadata": {},
   "outputs": [
    {
     "name": "stdout",
     "output_type": "stream",
     "text": [
      "mini_seismogram=MiniSeismogram(begin_time=datetime.datetime(2005, 3, 28, 15, 0, 0, 498100, tzinfo=datetime.timezone.utc), delta=datetime.timedelta(seconds=1), data=array([2.41037213e-07, 2.12793083e-07, 1.08320187e-07, ...,\n",
      "       1.37353561e-06, 2.51878942e-06, 3.21547782e-06], shape=(18000,))) is an instance of Seismogram: True\n"
     ]
    }
   ],
   "source": [
    "from pysmo.functions import clone_to_mini\n",
    "\n",
    "mini_seismogram = clone_to_mini(MiniSeismogram, sac.seismogram)\n",
    "print(\n",
    "    f\"{mini_seismogram=} is an instance of Seismogram: {isinstance(mini_seismogram, Seismogram)}\"\n",
    ")"
   ]
  },
  {
   "cell_type": "markdown",
   "id": "041795d4-3475-4a6d-b5be-dc223e039944",
   "metadata": {},
   "source": [
    "After updating the attributes in the clone we can copy changes back too using `copy_from_mini()`:"
   ]
  },
  {
   "cell_type": "code",
   "execution_count": 39,
   "id": "5a772cb5-daa6-43e1-ab63-a65047781b36",
   "metadata": {},
   "outputs": [
    {
     "name": "stdout",
     "output_type": "stream",
     "text": [
      "New begin_time: sac.seismogram.begin_time=datetime.datetime(2025, 4, 7, 16, 45, 46, 506303, tzinfo=datetime.timezone.utc)\n"
     ]
    }
   ],
   "source": [
    "from pysmo.functions import copy_from_mini\n",
    "from datetime import datetime, timezone\n",
    "\n",
    "mini_seismogram.begin_time = datetime.now(timezone.utc)\n",
    "copy_from_mini(mini_seismogram, sac.seismogram)\n",
    "print(f\"New begin_time: {sac.seismogram.begin_time=}\")"
   ]
  },
  {
   "cell_type": "markdown",
   "id": "7274e43f-ea2a-4431-aa1e-df6fe7e9899d",
   "metadata": {},
   "source": [
    "### Summary\n",
    "\n",
    "In order for pysmo types to be useful, there needs to be at least one class that matches the type signature. Pysmo's mini classes do exactly this in a minimal fashion. As such they are useful in situations where no other suitable class is available, or if using them as clones instead of an existing (compatible) class provides benefits in processing speed. Because of their close relationship to a particular type they are imported from the pysmo base namespace."
   ]
  }
 ],
 "metadata": {
  "kernelspec": {
   "display_name": "Python 3 (ipykernel)",
   "language": "python",
   "name": "python3"
  },
  "language_info": {
   "codemirror_mode": {
    "name": "ipython",
    "version": 3
   },
   "file_extension": ".py",
   "mimetype": "text/x-python",
   "name": "python",
   "nbconvert_exporter": "python",
   "pygments_lexer": "ipython3",
   "version": "3.13.2"
  }
 },
 "nbformat": 4,
 "nbformat_minor": 5
}
